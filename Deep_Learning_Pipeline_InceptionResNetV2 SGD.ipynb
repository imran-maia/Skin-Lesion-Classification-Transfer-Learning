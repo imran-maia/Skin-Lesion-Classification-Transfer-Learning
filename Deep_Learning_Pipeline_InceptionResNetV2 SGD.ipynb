{
  "cells": [
    {
      "cell_type": "markdown",
      "metadata": {
        "id": "YN9iavXyrH4W"
      },
      "source": [
        "## **Skin Lesion Classification**\n",
        "\n",
        "**Semester Project of Machine Learning and Deep Learning**\n",
        "\n",
        "* *Muhammad Zain Amin, Md. Imran Hossain, Taiabur Rahman*\n",
        "\n",
        "* *Erasmus Mundus Joint Master Degree in Medical Imaging and Applications*\n",
        "\n",
        "* *University of Cassino and Southern Lazio (UNICAS), Italy*\n"
      ]
    },
    {
      "cell_type": "markdown",
      "metadata": {
        "id": "qe6PkuK-scm_"
      },
      "source": [
        "*1.* **Import Libraries** "
      ]
    },
    {
      "cell_type": "code",
      "execution_count": null,
      "metadata": {
        "id": "5kEv278_iQFI"
      },
      "outputs": [],
      "source": [
        "# Import Libraries\n",
        "import os\n",
        "import matplotlib.pyplot as plt\n",
        "import numpy as np\n",
        "import pandas as pd\n",
        "from PIL import Image\n",
        "from glob import glob"
      ]
    },
    {
      "cell_type": "markdown",
      "metadata": {
        "id": "VB1DqOA1snhH"
      },
      "source": [
        "*2.* **Import Dataset** \n",
        "\n",
        "We are going to use the original ISIC2017 dataset. The ISIC2017 dataset contains\n",
        "\n",
        "*   Training set: 2000 images\n",
        "*   Validation set: 150 images\n",
        "*   Test set: 600 images"
      ]
    },
    {
      "cell_type": "markdown",
      "metadata": {
        "id": "df3dNAa8yf_t"
      },
      "source": [
        "*   Mount Drive\n",
        "\n"
      ]
    },
    {
      "cell_type": "code",
      "execution_count": null,
      "metadata": {
        "id": "c40kQxvDi8tc"
      },
      "outputs": [],
      "source": [
        "# Mount Google Drive\n",
        "from google.colab import drive\n",
        "drive.mount('/content/drive')"
      ]
    },
    {
      "cell_type": "markdown",
      "metadata": {
        "id": "jMEq2qnny41c"
      },
      "source": [
        "*   Specifying the training, validation and test datasets folder paths from the Google Drive"
      ]
    },
    {
      "cell_type": "code",
      "execution_count": null,
      "metadata": {
        "id": "4533rMZDkPyg"
      },
      "outputs": [],
      "source": [
        "# Specify the training, validation and test datasets folder paths\n",
        "training_data_path          = '/content/drive/MyDrive/Colab Notebooks/Machine and Deep Learning /Skin Lesion Classification Project/Skin-Lesion-Dataset/ISIC-2017_Training_Data'\n",
        "training_data_groudtruth    = '/content/drive/MyDrive/Colab Notebooks/Machine and Deep Learning /Skin Lesion Classification Project/Skin-Lesion-Dataset/ISIC-2017_Training_GroundTruth.csv'\n",
        "\n",
        "validation_data_path        = '/content/drive/MyDrive/Colab Notebooks/Machine and Deep Learning /Skin Lesion Classification Project/Skin-Lesion-Dataset/ISIC-2017_Validation_Data'\n",
        "validation_data_groudtruth  = '/content/drive/MyDrive/Colab Notebooks/Machine and Deep Learning /Skin Lesion Classification Project/Skin-Lesion-Dataset/ISIC-2017_Validation_GroundTruth.csv'\n",
        "\n",
        "test_data_path              = '/content/drive/MyDrive/Colab Notebooks/Machine and Deep Learning /Skin Lesion Classification Project/Skin-Lesion-Dataset/ISIC-2017_Test_Data'\n",
        "test_data_groudtruth        = '/content/drive/MyDrive/Colab Notebooks/Machine and Deep Learning /Skin Lesion Classification Project/Skin-Lesion-Dataset/ISIC-2017_Test_GroundTruth.csv'"
      ]
    },
    {
      "cell_type": "markdown",
      "metadata": {
        "id": "puYcjM2O1VIZ"
      },
      "source": [
        "*   Loading the lists of all the training, validation and test image files present in their relevent data path "
      ]
    },
    {
      "cell_type": "code",
      "execution_count": null,
      "metadata": {
        "id": "-fDFt_6MolLw"
      },
      "outputs": [],
      "source": [
        "# Get a list of all the .jpg image files in the training data path\n",
        "training_data_files  = os.path.join(training_data_path, '*.jpg')\n",
        "training_image_files = glob(training_data_files)\n",
        "\n",
        "# Get a list of all the .jpg image files in the validation data path\n",
        "validation_data_files  = os.path.join(validation_data_path, '*.jpg')\n",
        "validation_image_files = glob(validation_data_files)\n",
        "\n",
        "# Get a list of all the .jpg image files in the validation data path\n",
        "test_data_files  = os.path.join(test_data_path, '*.jpg')\n",
        "test_image_files = glob(test_data_files)"
      ]
    },
    {
      "cell_type": "markdown",
      "metadata": {
        "id": "k0G4hiDPzbyI"
      },
      "source": [
        "*   Mapping of all the training, validation and test image IDs to their path\n",
        "\n"
      ]
    },
    {
      "cell_type": "code",
      "execution_count": null,
      "metadata": {
        "id": "99cjDNJ4tPWk"
      },
      "outputs": [],
      "source": [
        "# Mapping of training images IDs to their paths\n",
        "training_images_mapping   = {os.path.splitext(os.path.basename(path))[0]: path for path in training_image_files}\n",
        "\n",
        "# Mapping of validation images IDs to their paths\n",
        "validation_images_mapping = {os.path.splitext(os.path.basename(path))[0]: path for path in validation_image_files}\n",
        "\n",
        "# Mapping of test images IDs to their paths\n",
        "test_images_mapping       = {os.path.splitext(os.path.basename(path))[0]: path for path in test_image_files}"
      ]
    },
    {
      "cell_type": "markdown",
      "metadata": {
        "id": "OqiwNNtSzxKd"
      },
      "source": [
        "*   Display of few image samples from the training dataset along with their dimensions"
      ]
    },
    {
      "cell_type": "code",
      "execution_count": null,
      "metadata": {
        "id": "UwOZqh-Nq5fG"
      },
      "outputs": [],
      "source": [
        "# Display the Training Image Files\n",
        "for index, image_file in enumerate(training_image_files):\n",
        "    if index >= 5:\n",
        "        break\n",
        "    image_path = os.path.join(training_data_path, image_file)\n",
        "    image = Image.open(image_path)\n",
        "    image_dimensions = image.size\n",
        "    \n",
        "    # Display the images\n",
        "    plt.imshow(image)\n",
        "    plt.axis('off')  # Optional: Remove axis\n",
        "    \n",
        "    # Display the dimensions\n",
        "    plt.title(f\"Dimensions: {image_dimensions[0]} x {image_dimensions[1]}\")\n",
        "    plt.show()"
      ]
    },
    {
      "cell_type": "markdown",
      "metadata": {
        "id": "V_bS1Cji0I4X"
      },
      "source": [
        "*   Display of few image samples from the validation dataset along with their dimensions\n",
        "\n"
      ]
    },
    {
      "cell_type": "code",
      "execution_count": null,
      "metadata": {
        "id": "vkXLem2wrNMP"
      },
      "outputs": [],
      "source": [
        "# Display the Validation Image Files\n",
        "for index, image_file in enumerate(validation_image_files):\n",
        "    if index >= 5:\n",
        "        break\n",
        "    image_path = os.path.join(validation_data_path, image_file)\n",
        "    image = Image.open(image_path)\n",
        "    image_dimensions = image.size\n",
        "    \n",
        "    # Display the images\n",
        "    plt.imshow(image)\n",
        "    plt.axis('off')  # Optional: Remove axis\n",
        "    \n",
        "    # Display the dimensions\n",
        "    plt.title(f\"Dimensions: {image_dimensions[0]} x {image_dimensions[1]}\")\n",
        "    plt.show()"
      ]
    },
    {
      "cell_type": "markdown",
      "metadata": {
        "id": "xj2iHHzC0MiD"
      },
      "source": [
        "*   Display of few image samples from the test dataset along with their dimensions"
      ]
    },
    {
      "cell_type": "code",
      "execution_count": null,
      "metadata": {
        "id": "X7WHCU3vrch8"
      },
      "outputs": [],
      "source": [
        "# Display the Test Image Files\n",
        "for index, image_file in enumerate(test_image_files):\n",
        "    if index >= 5:\n",
        "        break\n",
        "    image_path = os.path.join(test_data_path, image_file)\n",
        "    image = Image.open(image_path)\n",
        "    image_dimensions = image.size\n",
        "    \n",
        "    # Display the images\n",
        "    plt.imshow(image)\n",
        "    plt.axis('off')  # Optional: Remove axis\n",
        "    \n",
        "    # Display the dimensions\n",
        "    plt.title(f\"Dimensions: {image_dimensions[0]} x {image_dimensions[1]}\")\n",
        "    plt.show()"
      ]
    },
    {
      "cell_type": "markdown",
      "metadata": {
        "id": "9p9VNXHS0Qb9"
      },
      "source": [
        "*   Display of the training, validation, and test data groundtruth files"
      ]
    },
    {
      "cell_type": "markdown",
      "metadata": {
        "id": "E9nrMhcC4y8m"
      },
      "source": [
        "*3.* **Feature Engineering** "
      ]
    },
    {
      "cell_type": "markdown",
      "metadata": {
        "id": "ltNDOwsS8QJF"
      },
      "source": [
        "*3.1*.  **Hierarchical Binary Classification between Benign Class vs. Others Class**"
      ]
    },
    {
      "cell_type": "code",
      "execution_count": null,
      "metadata": {
        "id": "-AWurIEKmRfR"
      },
      "outputs": [],
      "source": [
        "# Display the training data groundtruth file\n",
        "train_groundtruth_bo = pd.read_csv(training_data_groudtruth)\n",
        "print('Training Data Groudtruth File:')\n",
        "print(train_groundtruth_bo.head())\n",
        "\n",
        "# Display the validation data groundtruth file\n",
        "validation_groundtruth_bo = pd.read_csv(validation_data_groudtruth)\n",
        "print('Validation Data Groudtruth File:')\n",
        "print(validation_groundtruth_bo.head())\n",
        "\n",
        "# Display the test data groundtruth file\n",
        "test_groundtruth_bo = pd.read_csv(test_data_groudtruth)\n",
        "print('Test Data Groudtruth File:')\n",
        "print(test_groundtruth_bo.head())"
      ]
    },
    {
      "cell_type": "markdown",
      "metadata": {
        "id": "OP7nz-aU69W3"
      },
      "source": [
        "Firstly, we are going to build new columns for the benign class and the others class to make it easier for us to do the classification stuff, because there are no columns of the benign class and the others class in the training groundtruth file. \n",
        "\n",
        "*   **Benign Class:** Benign case is present when the other two cases i.e. melanoma and seborrheic_keratosis cases are absent. \n",
        "*   **Others Class:** If one of the two cases i.e. either melanoma or seborrheic_keratosis cases is present, then it is considered as an other class sample."
      ]
    },
    {
      "cell_type": "code",
      "execution_count": null,
      "metadata": {
        "id": "-_Mp5PaqtOnf"
      },
      "outputs": [],
      "source": [
        "# Checking the number of melanoma cases in the training data\n",
        "train_melanoma_cases = train_groundtruth_bo['melanoma'].value_counts()\n",
        "# Display the number of melanoma cases\n",
        "print(\"Total number of melanoma cases in the training dataset:\", train_melanoma_cases[1])\n",
        "\n",
        "# Checking the number of seborrheic_keratosis cases in the training data\n",
        "train_seborrheic_keratosis_cases = train_groundtruth_bo['seborrheic_keratosis'].value_counts()\n",
        "# Display the number of seborrheic_keratosis cases\n",
        "print(\"Total number of seborrheic_keratosis cases in the training dataset:\", train_seborrheic_keratosis_cases[1])\n",
        "\n",
        "# Here I am creating a new column for the benign class in the training data, because there is no benign class column in the train groundtruth \n",
        "train_groundtruth_bo['benign'] = ((train_groundtruth_bo['melanoma'] == 0) & (train_groundtruth_bo['seborrheic_keratosis'] == 0)).astype(int)\n",
        "# Checking the number of benign cases in the training data\n",
        "train_benign_cases = train_groundtruth_bo['benign'].value_counts()\n",
        "# Display the number of benign cases\n",
        "print(\"Total number of benign cases in the training dataset:\", train_benign_cases[1])\n",
        "\n",
        "# Here I am creating a new column for the others class in the training data, because there is no other class column in the train groundtruth \n",
        "train_groundtruth_bo['others'] = 0\n",
        "train_groundtruth_bo.loc[(train_groundtruth_bo['melanoma'] == 1) | (train_groundtruth_bo['seborrheic_keratosis'] == 1), 'others'] = 1\n",
        "# Checking the number of other cases in the training data\n",
        "train_other_cases = train_groundtruth_bo['others'].value_counts()\n",
        "# Display the number of other cases\n",
        "print(\"Total number of other cases in the training dataset:\", train_other_cases[1])\n",
        "\n",
        "# So, here is the updated training groundtruth file\n",
        "print(train_groundtruth_bo.head())"
      ]
    },
    {
      "cell_type": "markdown",
      "metadata": {
        "id": "urwQXESm5Or8"
      },
      "source": [
        "If you now look at the number of other cases i.e. melanoma, and seborrheic_keratosis cases in the training dataset, you can clearly see that the training dataset is highly unbalanced. The number of benign cases are very high as compared to the number of other cases. To overcome this issue, now we are going to downsample the benign cases and upsample the others cases i.e. \"melanoma, and seborrheic_keratosis cases\"."
      ]
    },
    {
      "cell_type": "code",
      "execution_count": null,
      "metadata": {
        "id": "4BTST7cY4VqC"
      },
      "outputs": [],
      "source": [
        "# Let's downsample the Benign cases in the training dataset\n",
        "benign_cases = train_groundtruth_bo[train_groundtruth_bo['benign'] == 1]\n",
        "downsampled_benign_cases = benign_cases.sample(n=1000, replace=False, random_state=42)\n",
        "print('The number of samples in the benign cases after the downsampling: ',len(downsampled_benign_cases))"
      ]
    },
    {
      "cell_type": "markdown",
      "metadata": {
        "id": "zEddW732_eLJ"
      },
      "source": [
        "*   So, we have downsampled the benign cases in the training dataset to 1000 cases from 1372 cases using the sample function from the numpy library.\n",
        "*   The downsampled_benign_cases DataFrame now contains 1000 randomly selected Benign cases."
      ]
    },
    {
      "cell_type": "code",
      "execution_count": null,
      "metadata": {
        "id": "bHa3y0fCLs0r"
      },
      "outputs": [],
      "source": [
        "# Let's upsample the Others cases in the training dataset\n",
        "others_cases = train_groundtruth_bo[train_groundtruth_bo['others'] == 1]\n",
        "upsampled_others_cases = others_cases.sample(n=1000, replace=True, random_state=42)\n",
        "print('The number of samples in the others cases after the upsampling: ',len(upsampled_others_cases))"
      ]
    },
    {
      "cell_type": "markdown",
      "metadata": {
        "id": "AsWMuMwuAu9N"
      },
      "source": [
        "*   So, we have upsampled the other cases in the training dataset to 1000 cases from 628 cases using the sample function from the numpy library.\n",
        "*   The upsampled_others_cases DataFrame now contains 1000 randomly selected Others cases."
      ]
    },
    {
      "cell_type": "code",
      "execution_count": null,
      "metadata": {
        "id": "KSNfKcfUE-AI"
      },
      "outputs": [],
      "source": [
        "# Let's concatenate the downsampled_benign_cases and upsampled_others_cases together using the pandas library \"concat\" function\n",
        "train_balanced_cases = pd.concat([downsampled_benign_cases, upsampled_others_cases])\n",
        "train_balanced_cases = train_balanced_cases.sample(frac=1, random_state=42)\n",
        "print('The total number of cases after downsamling and upsampling:',len(train_balanced_cases))"
      ]
    },
    {
      "cell_type": "markdown",
      "metadata": {
        "id": "80c-J2ZxEaxQ"
      },
      "source": [
        "Now, we are going to read the training image files and also add them into the dataframe for classification purposes. After adding the training images into the dataframe, we have done these follwoing two steps.\n",
        "\n",
        "*   Normalization of the training images.\n",
        "*   Assigning the label values to each class, 1 represents the benign class sample, and 0 represents the others class sample. "
      ]
    },
    {
      "cell_type": "code",
      "execution_count": 14,
      "metadata": {
        "id": "TjqRulBvQw9-"
      },
      "outputs": [],
      "source": [
        "# Let's read the training images and also add them in the dataframe\n",
        "train_balanced_cases['image_path'] = train_balanced_cases['image_id'].map(training_images_mapping)\n",
        "train_balanced_cases['images'] = train_balanced_cases['image_path'].map(lambda x: np.asarray(Image.open(x).resize((128, 128))))\n",
        "\n",
        "# Normalize of training images\n",
        "train_images_bo = np.asarray(train_balanced_cases['images'].tolist())\n",
        "train_images_bo = train_images_bo/255.\n",
        "\n",
        "# Labels of training images\n",
        "train_label_bo = train_balanced_cases['benign']\n",
        "train_benign_dataset = train_images_bo[train_label_bo == 1]\n",
        "train_others_dataset = train_images_bo[train_label_bo == 0]"
      ]
    },
    {
      "cell_type": "markdown",
      "metadata": {
        "id": "pKqCGvuXQXWr"
      },
      "source": [
        "*   So, now we have the balanced training dataset with an equal number of Benign and Others cases."
      ]
    },
    {
      "cell_type": "markdown",
      "metadata": {
        "id": "0IA-3_kT6K89"
      },
      "source": [
        "Here, we are again going to build new columns for the benign class and the others class to make it easier for us to do the classification stuff, because also there are no columns of the benign class and the others class in the validation groundtruth file. \n",
        "\n",
        "*   **Benign Class:** Benign case is present when the other two cases i.e. melanoma and seborrheic_keratosis cases are absent. \n",
        "*   **Others Class:** If one of the two cases i.e. either melanoma or seborrheic_keratosis cases is present, then it is considered as an other class sample."
      ]
    },
    {
      "cell_type": "code",
      "execution_count": 15,
      "metadata": {
        "id": "yJiiMhxqLe5v",
        "colab": {
          "base_uri": "https://localhost:8080/"
        },
        "outputId": "5a66f72b-74e3-45d9-c9e5-61c09921c618"
      },
      "outputs": [
        {
          "output_type": "stream",
          "name": "stdout",
          "text": [
            "Total number of melanoma cases in the validation dataset: 30\n",
            "Total number of seborrheic_keratosis cases in the validation dataset: 42\n",
            "Total number of benign cases in the validation dataset: 78\n",
            "Total number of other cases in the validation dataset: 72\n",
            "       image_id  melanoma  seborrheic_keratosis  benign  others\n",
            "0  ISIC_0001769       0.0                   0.0       1       0\n",
            "1  ISIC_0001852       0.0                   0.0       1       0\n",
            "2  ISIC_0001871       0.0                   0.0       1       0\n",
            "3  ISIC_0003462       0.0                   0.0       1       0\n",
            "4  ISIC_0003539       0.0                   0.0       1       0\n"
          ]
        }
      ],
      "source": [
        "# Checking the number of melanoma cases in the validation data\n",
        "validation_melanoma_cases = validation_groundtruth_bo['melanoma'].value_counts()\n",
        "# Display the number of melanoma cases\n",
        "print(\"Total number of melanoma cases in the validation dataset:\", validation_melanoma_cases[1])\n",
        "\n",
        "# Checking the number of seborrheic_keratosis cases in the validation data\n",
        "validation_seborrheic_keratosis_cases = validation_groundtruth_bo['seborrheic_keratosis'].value_counts()\n",
        "# Display the number of seborrheic_keratosis cases\n",
        "print(\"Total number of seborrheic_keratosis cases in the validation dataset:\", validation_seborrheic_keratosis_cases[1])\n",
        "\n",
        "# Here I am creating a new column for the benign class in the validation data, because there is no benign class column in the validation groundtruth \n",
        "validation_groundtruth_bo['benign'] = ((validation_groundtruth_bo['melanoma'] == 0) & (validation_groundtruth_bo['seborrheic_keratosis'] == 0)).astype(int)\n",
        "# Checking the number of benign cases in the validation data\n",
        "validation_benign_cases = validation_groundtruth_bo['benign'].value_counts()\n",
        "# Display the number of benign cases\n",
        "print(\"Total number of benign cases in the validation dataset:\", validation_benign_cases[1])\n",
        "\n",
        "# Here I am creating a new column for the others class in the validation data, because there is no other class column in the validation groundtruth \n",
        "validation_groundtruth_bo['others'] = 0\n",
        "validation_groundtruth_bo.loc[(validation_groundtruth_bo['melanoma'] == 1) | (validation_groundtruth_bo['seborrheic_keratosis'] == 1), 'others'] = 1\n",
        "# Checking the number of other cases in the validation data\n",
        "validation_other_cases = validation_groundtruth_bo['others'].value_counts()\n",
        "# Display the number of other cases\n",
        "print(\"Total number of other cases in the validation dataset:\", validation_other_cases[1])\n",
        "\n",
        "# So, here is the updated validation groundtruth file\n",
        "print(validation_groundtruth_bo.head())"
      ]
    },
    {
      "cell_type": "markdown",
      "metadata": {
        "id": "YY4UMga3NSRz"
      },
      "source": [
        "Also, we are going to read the validation image files and adding them into the dataframe for classification purposes. After adding the validation images into the dataframe, we have done these follwoing two steps.\n",
        "\n",
        "*   Normalization of the validation images.\n",
        "*   Assigning the label values to each class, 1 represents the benign class sample, and 0 represents the others class sample. "
      ]
    },
    {
      "cell_type": "code",
      "execution_count": 16,
      "metadata": {
        "id": "5U0vTe3OgSqB"
      },
      "outputs": [],
      "source": [
        "# Let's read the validation images and also add them in the dataframe\n",
        "validation_groundtruth_bo['image_path'] = validation_groundtruth_bo['image_id'].map(validation_images_mapping)\n",
        "validation_groundtruth_bo['images'] = validation_groundtruth_bo['image_path'].map(lambda x: np.asarray(Image.open(x).resize((128, 128))))\n",
        "\n",
        "# Normalize of validation images\n",
        "validation_images_bo = np.asarray(validation_groundtruth_bo['images'].tolist())\n",
        "validation_images_bo = validation_images_bo/255.\n",
        "\n",
        "# Labels of validation images\n",
        "validation_label_bo = validation_groundtruth_bo['benign']\n",
        "validation_benign_dataset = validation_images_bo[validation_label_bo == 1]\n",
        "validation_others_dataset = validation_images_bo[validation_label_bo == 0]"
      ]
    },
    {
      "cell_type": "markdown",
      "metadata": {
        "id": "jitQfpJYDFIk"
      },
      "source": [
        "Here, we are again going to build new columns for the benign class and the others class to make it easier for us to do the classification stuff, because also there are no columns of the benign class and the others class in the test groundtruth file. \n",
        "\n",
        "*   **Benign Class:** Benign case is present when the other two cases i.e. melanoma and seborrheic_keratosis cases are absent. \n",
        "*   **Others Class:** If one of the two cases i.e. either melanoma or seborrheic_keratosis cases is present, then it is considered as an other class sample."
      ]
    },
    {
      "cell_type": "code",
      "execution_count": 17,
      "metadata": {
        "colab": {
          "base_uri": "https://localhost:8080/"
        },
        "id": "ashyaghF4d9U",
        "outputId": "25d56e39-ffb1-40a8-dfbb-0ed7f5bbb082"
      },
      "outputs": [
        {
          "output_type": "stream",
          "name": "stdout",
          "text": [
            "Total number of melanoma cases in the test dataset: 117\n",
            "Total number of seborrheic_keratosis cases in the test dataset: 90\n",
            "Total number of benign cases in the test dataset: 393\n",
            "Total number of other cases in the test dataset: 207\n",
            "       image_id  melanoma  seborrheic_keratosis  benign  others\n",
            "0  ISIC_0012086       0.0                   1.0       0       1\n",
            "1  ISIC_0012092       0.0                   0.0       1       0\n",
            "2  ISIC_0012095       0.0                   0.0       1       0\n",
            "3  ISIC_0012134       0.0                   1.0       0       1\n",
            "4  ISIC_0012136       0.0                   1.0       0       1\n"
          ]
        }
      ],
      "source": [
        "# Checking the number of melanoma cases in the test data\n",
        "test_melanoma_cases = test_groundtruth_bo['melanoma'].value_counts()\n",
        "# Display the number of melanoma cases\n",
        "print(\"Total number of melanoma cases in the test dataset:\", test_melanoma_cases[1])\n",
        "\n",
        "# Checking the number of seborrheic_keratosis cases in the test data\n",
        "test_seborrheic_keratosis_cases = test_groundtruth_bo['seborrheic_keratosis'].value_counts()\n",
        "# Display the number of seborrheic_keratosis cases\n",
        "print(\"Total number of seborrheic_keratosis cases in the test dataset:\", test_seborrheic_keratosis_cases[1])\n",
        "\n",
        "# Here I am creating a new column for the benign class in the test data, because there is no benign class column in the test groundtruth \n",
        "test_groundtruth_bo['benign'] = ((test_groundtruth_bo['melanoma'] == 0) & (test_groundtruth_bo['seborrheic_keratosis'] == 0)).astype(int)\n",
        "# Checking the number of benign cases in the test data\n",
        "test_benign_cases = test_groundtruth_bo['benign'].value_counts()\n",
        "# Display the number of benign cases\n",
        "print(\"Total number of benign cases in the test dataset:\", test_benign_cases[1])\n",
        "\n",
        "# Here I am creating a new column for the others class in the test data, because there is no other class column in the test groundtruth \n",
        "test_groundtruth_bo['others'] = 0\n",
        "test_groundtruth_bo.loc[(test_groundtruth_bo['melanoma'] == 1) | (test_groundtruth_bo['seborrheic_keratosis'] == 1), 'others'] = 1\n",
        "# Checking the number of other cases in the test data\n",
        "test_other_cases = test_groundtruth_bo['others'].value_counts()\n",
        "# Display the number of other cases\n",
        "print(\"Total number of other cases in the test dataset:\", test_other_cases[1])\n",
        "\n",
        "# So, here is the updated test groundtruth file\n",
        "print(test_groundtruth_bo.head())"
      ]
    },
    {
      "cell_type": "markdown",
      "metadata": {
        "id": "ttUw3K1RG_X4"
      },
      "source": [
        "Also, we are going to read the test image files and adding them into the dataframe for classification purposes. After adding the test images into the dataframe, we have done these follwoing two steps.\n",
        "\n",
        "*   Normalization of the test images.\n",
        "*   Assigning the label values to each class, 1 represents the benign class sample, and 0 represents the others class sample. "
      ]
    },
    {
      "cell_type": "code",
      "execution_count": 18,
      "metadata": {
        "id": "bvLquBRZ5tMR"
      },
      "outputs": [],
      "source": [
        "# Let's read the test images and also add them in the dataframe\n",
        "test_groundtruth_bo['image_path'] = test_groundtruth_bo['image_id'].map(test_images_mapping)\n",
        "test_groundtruth_bo['images'] = test_groundtruth_bo['image_path'].map(lambda x: np.asarray(Image.open(x).resize((128, 128))))\n",
        "\n",
        "# Normalize of test images\n",
        "test_images_bo = np.asarray(test_groundtruth_bo['images'].tolist())\n",
        "test_images_bo = test_images_bo/255.\n",
        "\n",
        "# Labels of test images\n",
        "test_label_bo = test_groundtruth_bo['benign']\n",
        "test_benign_dataset = test_images_bo[test_label_bo == 1]\n",
        "test_others_dataset = test_images_bo[test_label_bo == 0]"
      ]
    },
    {
      "cell_type": "markdown",
      "metadata": {
        "id": "an6ijkILHhX1"
      },
      "source": [
        "So, here after implemented all the required feature engineering steps, we have the final training, validation and test sets for the classification purpose of benign vs. others class."
      ]
    },
    {
      "cell_type": "code",
      "execution_count": 19,
      "metadata": {
        "id": "i_yiwzxSGiRh"
      },
      "outputs": [],
      "source": [
        "# Training sets \n",
        "X_train_bo = np.concatenate([train_benign_dataset, train_others_dataset])\n",
        "Y_train_bo = np.concatenate([np.ones(len(train_benign_dataset)), np.zeros(len(train_others_dataset))])\n",
        "\n",
        "# Validation sets\n",
        "X_validation_bo = np.concatenate([validation_benign_dataset, validation_others_dataset])\n",
        "Y_validation_bo = np.concatenate([np.ones(len(validation_benign_dataset)), np.zeros(len(validation_others_dataset))])\n",
        "\n",
        "# Test sets\n",
        "X_test_bo = np.concatenate([test_benign_dataset, test_others_dataset])\n",
        "Y_test_bo = np.concatenate([np.ones(len(test_benign_dataset)), np.zeros(len(test_others_dataset))])"
      ]
    },
    {
      "cell_type": "markdown",
      "metadata": {
        "id": "3Nx47v_Q1YAq"
      },
      "source": [
        "*3.2*.  **Hierarchical Binary Classification between Melanoma Class vs. Seborreic Class**"
      ]
    },
    {
      "cell_type": "code",
      "execution_count": 20,
      "metadata": {
        "colab": {
          "base_uri": "https://localhost:8080/"
        },
        "id": "Ia5GZ_AS1XIp",
        "outputId": "f46f816a-96ab-4edc-e9c9-146f11bd1b8f"
      },
      "outputs": [
        {
          "output_type": "stream",
          "name": "stdout",
          "text": [
            "Training Data Groudtruth File:\n",
            "       image_id  melanoma  seborrheic_keratosis\n",
            "0  ISIC_0000000       0.0                   0.0\n",
            "1  ISIC_0000001       0.0                   0.0\n",
            "2  ISIC_0000002       1.0                   0.0\n",
            "3  ISIC_0000003       0.0                   0.0\n",
            "4  ISIC_0000004       1.0                   0.0\n",
            "Validation Data Groudtruth File:\n",
            "       image_id  melanoma  seborrheic_keratosis\n",
            "0  ISIC_0001769       0.0                   0.0\n",
            "1  ISIC_0001852       0.0                   0.0\n",
            "2  ISIC_0001871       0.0                   0.0\n",
            "3  ISIC_0003462       0.0                   0.0\n",
            "4  ISIC_0003539       0.0                   0.0\n",
            "Test Data Groudtruth File:\n",
            "       image_id  melanoma  seborrheic_keratosis\n",
            "0  ISIC_0012086       0.0                   1.0\n",
            "1  ISIC_0012092       0.0                   0.0\n",
            "2  ISIC_0012095       0.0                   0.0\n",
            "3  ISIC_0012134       0.0                   1.0\n",
            "4  ISIC_0012136       0.0                   1.0\n"
          ]
        }
      ],
      "source": [
        "# Display the training data groundtruth file\n",
        "train_groundtruth_ms = pd.read_csv(training_data_groudtruth)\n",
        "print('Training Data Groudtruth File:')\n",
        "print(train_groundtruth_ms.head())\n",
        "\n",
        "# Display the validation data groundtruth file\n",
        "validation_groundtruth_ms = pd.read_csv(validation_data_groudtruth)\n",
        "print('Validation Data Groudtruth File:')\n",
        "print(validation_groundtruth_ms.head())\n",
        "\n",
        "# Display the test data groundtruth file\n",
        "test_groundtruth_ms = pd.read_csv(test_data_groudtruth)\n",
        "print('Test Data Groudtruth File:')\n",
        "print(test_groundtruth_ms.head())"
      ]
    },
    {
      "cell_type": "markdown",
      "metadata": {
        "id": "N3-loavJ3QcN"
      },
      "source": [
        "*   Here we are going to filter the training dataset to remove cases with neither melanoma nor seborrheic keratosis.\n",
        "\n",
        "\n"
      ]
    },
    {
      "cell_type": "code",
      "execution_count": 21,
      "metadata": {
        "colab": {
          "base_uri": "https://localhost:8080/"
        },
        "id": "R1J7NmYK1-vK",
        "outputId": "1d55e0bc-f763-46a0-cb8b-34dae4e81e6e"
      },
      "outputs": [
        {
          "output_type": "stream",
          "name": "stdout",
          "text": [
            "Total number of melanoma cases in the training dataset: 374\n",
            "Total number of seborrheic_keratosis cases in the training dataset: 254\n",
            "Number of removed cases from the training dataset: 1372\n"
          ]
        }
      ],
      "source": [
        "# Checking the number of melanoma cases in the training data\n",
        "train_melanoma_cases = train_groundtruth_ms['melanoma'].value_counts()\n",
        "# Display the number of melanoma cases\n",
        "print(\"Total number of melanoma cases in the training dataset:\", train_melanoma_cases[1])\n",
        "\n",
        "# Checking the number of seborrheic_keratosis cases in the training data\n",
        "train_seborrheic_keratosis_cases = train_groundtruth_ms['seborrheic_keratosis'].value_counts()\n",
        "# Display the number of seborrheic_keratosis cases\n",
        "print(\"Total number of seborrheic_keratosis cases in the training dataset:\", train_seborrheic_keratosis_cases[1])\n",
        "\n",
        "# Filter the training dataset to remove cases with neither melanoma nor seborrheic keratosis\n",
        "updated_train_groundtruth_ms = train_groundtruth_ms[(train_groundtruth_ms['melanoma'] != 0.0) | (train_groundtruth_ms['seborrheic_keratosis'] != 0.0)]\n",
        "\n",
        "# Number of cases in the original training dataset\n",
        "original_train_dataset_cases = len(train_groundtruth_ms)\n",
        "# Number of cases in the updated training dataset\n",
        "updated_train_dataset_cases = len(updated_train_groundtruth_ms)\n",
        "# Number of removed cases in the training dataset\n",
        "train_removed_cases = original_train_dataset_cases - updated_train_dataset_cases\n",
        "# Display the number of removed cases from the training dataset\n",
        "print(\"Number of removed cases from the training dataset:\", train_removed_cases)"
      ]
    },
    {
      "cell_type": "markdown",
      "metadata": {
        "id": "bjd0HG7Sw-DB"
      },
      "source": [
        "Now, we are going to read the training image files and adding them into the dataframe for classification purposes. After adding the training images into the dataframe, we have done these follwoing two steps.\n",
        "\n",
        "*   Normalization of the training images.\n",
        "*   Assigning the label values to each class, 1 represents the melanoma class, and 0 represents the seborrheic_keratosis class sample. "
      ]
    },
    {
      "cell_type": "code",
      "execution_count": 22,
      "metadata": {
        "id": "L0z-ceZn3HYY"
      },
      "outputs": [],
      "source": [
        "# Let's read the training images and also add them in the dataframe\n",
        "updated_train_groundtruth_ms = updated_train_groundtruth_ms.copy()\n",
        "updated_train_groundtruth_ms['image_path'] = updated_train_groundtruth_ms['image_id'].map(training_images_mapping)\n",
        "updated_train_groundtruth_ms['images'] = updated_train_groundtruth_ms['image_path'].map(lambda x: np.asarray(Image.open(x).resize((128, 128))))\n",
        "\n",
        "# Normalize of training images\n",
        "training_images_ms = np.asarray(updated_train_groundtruth_ms['images'].tolist())\n",
        "training_images_ms = training_images_ms/255.\n",
        "\n",
        "# Labels of training images\n",
        "training_label_ms = updated_train_groundtruth_ms['melanoma']\n",
        "training_melanoma_dataset = training_images_ms[training_label_ms == 1]\n",
        "training_seborrheic_keratosis_dataset = training_images_ms[training_label_ms == 0]"
      ]
    },
    {
      "cell_type": "markdown",
      "metadata": {
        "id": "tCoJ7e5h4drP"
      },
      "source": [
        "*   Here we are going to filter the validation dataset to remove cases with neither melanoma nor seborrheic keratosis."
      ]
    },
    {
      "cell_type": "code",
      "execution_count": 23,
      "metadata": {
        "colab": {
          "base_uri": "https://localhost:8080/"
        },
        "id": "gchlbWpO4d-d",
        "outputId": "ccac4c75-79d2-44d1-bde6-22c62d56e832"
      },
      "outputs": [
        {
          "metadata": {
            "tags": null
          },
          "name": "stdout",
          "output_type": "stream",
          "text": [
            "Total number of melanoma cases in the validation dataset: 30\n",
            "Total number of seborrheic_keratosis cases in the validation dataset: 42\n",
            "Number of removed cases from the validation dataset: 78\n"
          ]
        }
      ],
      "source": [
        "# Checking the number of melanoma cases in the validation data\n",
        "validation_melanoma_cases = validation_groundtruth_ms['melanoma'].value_counts()\n",
        "# Display the number of melanoma cases\n",
        "print(\"Total number of melanoma cases in the validation dataset:\", validation_melanoma_cases[1])\n",
        "\n",
        "# Checking the number of seborrheic_keratosis cases in the validation data\n",
        "validation_seborrheic_keratosis_cases = validation_groundtruth_ms['seborrheic_keratosis'].value_counts()\n",
        "# Display the number of seborrheic_keratosis cases\n",
        "print(\"Total number of seborrheic_keratosis cases in the validation dataset:\", validation_seborrheic_keratosis_cases[1])\n",
        "\n",
        "# Filter the validation dataset to remove cases with neither melanoma nor seborrheic keratosis\n",
        "updated_validation_groundtruth_ms = validation_groundtruth_ms[(validation_groundtruth_ms['melanoma'] != 0.0) | (validation_groundtruth_ms['seborrheic_keratosis'] != 0.0)]\n",
        "\n",
        "# Number of cases in the original validation dataset\n",
        "original_validation_dataset_cases = len(validation_groundtruth_ms)\n",
        "# Number of cases in the updated validation dataset\n",
        "updated_validation_dataset_cases = len(updated_validation_groundtruth_ms)\n",
        "# Number of removed cases in the validation dataset\n",
        "validation_removed_cases = original_validation_dataset_cases - updated_validation_dataset_cases\n",
        "# Display the number of removed cases from the validation dataset\n",
        "print(\"Number of removed cases from the validation dataset:\", validation_removed_cases)"
      ]
    },
    {
      "cell_type": "markdown",
      "metadata": {
        "id": "K5zWY6ATxwVk"
      },
      "source": [
        "Now, we are going to read the validation image files and adding them into the dataframe for classification purposes. After adding the validation images into the dataframe, we have done these follwoing two steps.\n",
        "\n",
        "*   Normalization of the validation images.\n",
        "*   Assigning the label values to each class, 1 represents the melanoma class, and 0 represents the seborrheic_keratosis class sample. "
      ]
    },
    {
      "cell_type": "code",
      "execution_count": 24,
      "metadata": {
        "id": "KEGaowAe4-G2"
      },
      "outputs": [],
      "source": [
        "# Let's read the validation images and also add them in the dataframe\n",
        "updated_validation_groundtruth_ms = updated_validation_groundtruth_ms.copy()\n",
        "updated_validation_groundtruth_ms['image_path'] = updated_validation_groundtruth_ms['image_id'].map(validation_images_mapping)\n",
        "updated_validation_groundtruth_ms['images'] = updated_validation_groundtruth_ms['image_path'].map(lambda x: np.asarray(Image.open(x).resize((128, 128))))\n",
        "\n",
        "# Normalize of validation images\n",
        "validation_images_ms = np.asarray(updated_validation_groundtruth_ms['images'].tolist())\n",
        "validation_images_ms = validation_images_ms/255.\n",
        "\n",
        "# Labels of validation images\n",
        "validation_label_ms = updated_validation_groundtruth_ms['melanoma']\n",
        "validation_melanoma_dataset = validation_images_ms[validation_label_ms == 1]\n",
        "validation_seborrheic_keratosis_dataset = validation_images_ms[validation_label_ms == 0]"
      ]
    },
    {
      "cell_type": "markdown",
      "metadata": {
        "id": "_ZP9kmXj6Pbd"
      },
      "source": [
        "*   Here we are going to filter the test dataset to remove cases with neither melanoma nor seborrheic keratosis."
      ]
    },
    {
      "cell_type": "code",
      "execution_count": 25,
      "metadata": {
        "colab": {
          "base_uri": "https://localhost:8080/"
        },
        "id": "F-zaoiwf6Pt6",
        "outputId": "1a73a363-8759-40a4-b8b9-f7ff4d260b96"
      },
      "outputs": [
        {
          "metadata": {
            "tags": null
          },
          "name": "stdout",
          "output_type": "stream",
          "text": [
            "Total number of melanoma cases in the test dataset: 117\n",
            "Total number of seborrheic_keratosis cases in the test dataset: 90\n",
            "Number of removed cases from the test dataset: 393\n"
          ]
        }
      ],
      "source": [
        "# Checking the number of melanoma cases in the test data\n",
        "test_melanoma_cases = test_groundtruth_ms['melanoma'].value_counts()\n",
        "# Display the number of melanoma cases\n",
        "print(\"Total number of melanoma cases in the test dataset:\", test_melanoma_cases[1])\n",
        "\n",
        "# Checking the number of seborrheic_keratosis cases in the test data\n",
        "test_seborrheic_keratosis_cases = test_groundtruth_ms['seborrheic_keratosis'].value_counts()\n",
        "# Display the number of seborrheic_keratosis cases\n",
        "print(\"Total number of seborrheic_keratosis cases in the test dataset:\", test_seborrheic_keratosis_cases[1])\n",
        "\n",
        "# Filter the test dataset to remove cases with neither melanoma nor seborrheic keratosis\n",
        "updated_test_groundtruth_ms = test_groundtruth_ms[(test_groundtruth_ms['melanoma'] != 0.0) | (test_groundtruth_ms['seborrheic_keratosis'] != 0.0)]\n",
        "\n",
        "# Number of cases in the original test dataset\n",
        "original_test_dataset_cases = len(test_groundtruth_ms)\n",
        "# Number of cases in the updated test dataset\n",
        "updated_test_dataset_cases = len(updated_test_groundtruth_ms)\n",
        "# Number of removed cases in the test dataset\n",
        "test_removed_cases = original_test_dataset_cases - updated_test_dataset_cases\n",
        "# Display the number of removed cases from the test dataset\n",
        "print(\"Number of removed cases from the test dataset:\", test_removed_cases)"
      ]
    },
    {
      "cell_type": "markdown",
      "metadata": {
        "id": "_JH9h9xIyIYf"
      },
      "source": [
        "Now, we are going to read the test image files and adding them into the dataframe for classification purposes. After adding the test images into the dataframe, we have done these follwoing two steps.\n",
        "\n",
        "*   Normalization of the test images.\n",
        "*   Assigning the label values to each class, 1 represents the melanoma class, and 0 represents the seborrheic_keratosis class sample. "
      ]
    },
    {
      "cell_type": "code",
      "execution_count": 26,
      "metadata": {
        "id": "DtuGkH2E627x"
      },
      "outputs": [],
      "source": [
        "# Let's read the test images and also add them in the dataframe\n",
        "updated_test_groundtruth_ms = updated_test_groundtruth_ms.copy()\n",
        "updated_test_groundtruth_ms['image_path'] = updated_test_groundtruth_ms['image_id'].map(test_images_mapping)\n",
        "updated_test_groundtruth_ms['images'] = updated_test_groundtruth_ms['image_path'].map(lambda x: np.asarray(Image.open(x).resize((128, 128))))\n",
        "\n",
        "# Normalize of test images\n",
        "test_images_ms = np.asarray(updated_test_groundtruth_ms['images'].tolist())\n",
        "test_images_ms = test_images_ms/255.\n",
        "\n",
        "# Labels of test images\n",
        "test_label_ms = updated_test_groundtruth_ms['melanoma']\n",
        "test_melanoma_dataset = test_images_ms[test_label_ms == 1]\n",
        "test_seborrheic_keratosis_dataset = test_images_ms[test_label_ms == 0]"
      ]
    },
    {
      "cell_type": "markdown",
      "metadata": {
        "id": "SOFO014v8Tn2"
      },
      "source": [
        "So, here after implemented all the required feature engineering steps, we have the final training, validation and test sets for the classification purpose between melanoma vs. seborrheic classes."
      ]
    },
    {
      "cell_type": "code",
      "execution_count": 27,
      "metadata": {
        "id": "ivDdLNXZ8T48"
      },
      "outputs": [],
      "source": [
        "# Training sets \n",
        "X_train_ms = np.concatenate([training_melanoma_dataset, training_seborrheic_keratosis_dataset])\n",
        "Y_train_ms = np.concatenate([np.ones(len(training_melanoma_dataset)), np.zeros(len(training_seborrheic_keratosis_dataset))])\n",
        "\n",
        "# Validation sets\n",
        "X_validation_ms = np.concatenate([validation_melanoma_dataset, validation_seborrheic_keratosis_dataset])\n",
        "Y_validation_ms = np.concatenate([np.ones(len(validation_melanoma_dataset)), np.zeros(len(validation_seborrheic_keratosis_dataset))])\n",
        "\n",
        "# Test sets\n",
        "X_test_ms = np.concatenate([test_melanoma_dataset, test_seborrheic_keratosis_dataset])\n",
        "Y_test_ms = np.concatenate([np.ones(len(test_melanoma_dataset)), np.zeros(len(test_seborrheic_keratosis_dataset))])"
      ]
    },
    {
      "cell_type": "markdown",
      "metadata": {
        "id": "pvXuUd7SH2Kn"
      },
      "source": [
        "*4.* **Model Training and Classification**\n",
        "\n",
        "*   For the model training and classification purpose, we are going to use the keras library.\n",
        "\n",
        "\n"
      ]
    },
    {
      "cell_type": "code",
      "execution_count": 28,
      "metadata": {
        "id": "DY2Z9BhUKLdI"
      },
      "outputs": [],
      "source": [
        "# Import keras library and related functions such as models, layers and VGG16 pretrained keras function\n",
        "import keras\n",
        "from keras.applications import InceptionResNetV2\n",
        "from keras.models import Sequential\n",
        "from keras.layers import Dense, Dropout, Flatten"
      ]
    },
    {
      "cell_type": "markdown",
      "metadata": {
        "id": "3bHt7UEfLnEZ"
      },
      "source": [
        "*   we import the InceptionResNetV2 model from keras.applications and load the pre-trained weights using the 'imagenet' parameter. We set include_top=False to exclude the final fully connected layers of InceptionResNetV2, as we will be adding our own layers for classification. The input shape is set to (128, 128, 3) to match our classification requirements.\n",
        "\n"
      ]
    },
    {
      "cell_type": "code",
      "execution_count": 29,
      "metadata": {
        "colab": {
          "base_uri": "https://localhost:8080/"
        },
        "id": "KiXEqcYgKFjR",
        "outputId": "0575c737-6428-47e9-ef1d-c82847c51c6c"
      },
      "outputs": [
        {
          "output_type": "stream",
          "name": "stdout",
          "text": [
            "Downloading data from https://storage.googleapis.com/tensorflow/keras-applications/inception_resnet_v2/inception_resnet_v2_weights_tf_dim_ordering_tf_kernels_notop.h5\n",
            "219055592/219055592 [==============================] - 7s 0us/step\n",
            "Model: \"sequential\"\n",
            "_________________________________________________________________\n",
            " Layer (type)                Output Shape              Param #   \n",
            "=================================================================\n",
            " inception_resnet_v2 (Functi  (None, 2, 2, 1536)       54336736  \n",
            " onal)                                                           \n",
            "                                                                 \n",
            " flatten (Flatten)           (None, 6144)              0         \n",
            "                                                                 \n",
            " dense (Dense)               (None, 32)                196640    \n",
            "                                                                 \n",
            " dense_1 (Dense)             (None, 1)                 33        \n",
            "                                                                 \n",
            "=================================================================\n",
            "Total params: 54,533,409\n",
            "Trainable params: 196,673\n",
            "Non-trainable params: 54,336,736\n",
            "_________________________________________________________________\n"
          ]
        }
      ],
      "source": [
        "# Load the pre-trained InceptionResNetV2 model\n",
        "InceptionResNetV2_model = InceptionResNetV2(weights='imagenet', include_top=False, input_shape=(128, 128, 3))\n",
        "\n",
        "# We freeze the weights of the InceptionResNetV2 layers by setting layer.trainable = False\n",
        "for layer in InceptionResNetV2_model.layers:\n",
        "    layer.trainable = False\n",
        "\n",
        "# Built a new Sequential model and add the pre-trained InceptionResNetV2 model as the first layer using model.add(vgg16_model) \n",
        "# This adds the VGG16 layers to our model\n",
        "model = Sequential()\n",
        "model.add(InceptionResNetV2_model)\n",
        "\n",
        "# After the DenseNet201 layers, we add a flatten layer to convert the output into a 1-dimensional tensor\n",
        "model.add(Flatten())\n",
        "model.add(Dense(32))\n",
        "model.add(Dense(1, activation='sigmoid')) # Sigmoid activation function\n",
        "\n",
        "# Print the model summary\n",
        "model.summary()"
      ]
    },
    {
      "cell_type": "markdown",
      "metadata": {
        "id": "h4oXEmKoMM_N"
      },
      "source": [
        "Let's compile our model with the binary_crossentropy loss function, and adam optimizer."
      ]
    },
    {
      "cell_type": "code",
      "execution_count": 76,
      "metadata": {
        "id": "m1eU0oPLKjgN"
      },
      "outputs": [],
      "source": [
        "from keras.optimizers import SGD\n",
        "\n",
        "optimizer = SGD(learning_rate=0.005)\n",
        "model.compile(loss='binary_crossentropy', optimizer=optimizer, metrics=['acc'])"
      ]
    },
    {
      "cell_type": "markdown",
      "metadata": {
        "id": "A0wLhav8OPkG"
      },
      "source": [
        "The model training is done using the fit function in Keras. These are the parameter given below:\n",
        "\n",
        "* X_train and Y_train: These are the input features and corresponding labels of the training data, respectively. X_train represents the input images, and Y_train represents their corresponding class labels.\n",
        "\n",
        "* epochs: It specifies the number of times the entire training dataset will be passed through the model during training. In this case, it is set to 20, meaning the model will go through the entire training dataset 20 times.\n",
        "\n",
        "* batch_size: It determines the number of samples that will be used in each training iteration. The training data is divided into batches, and the model's weights are updated after each batch. The batch size is set to 32, which means that the model will update its weights after processing 32 samples.\n",
        "\n",
        "* validation_data: It is used to evaluate the model's performance on a separate validation dataset during training. X_validation and Y_validation represent the input features and labels of the validation dataset, respectively. The model's performance on the validation data is computed after each epoch.\n",
        "\n",
        "The fit function trains the model by iteratively optimizing the model's weights using the specified training data. It returns a history object that contains the training and validation loss and accuracy values for each epoch."
      ]
    },
    {
      "cell_type": "markdown",
      "metadata": {
        "id": "UFWYEPBkzW5s"
      },
      "source": [
        "*4.1.* **Model Training for the  Benign vs Others class**"
      ]
    },
    {
      "cell_type": "code",
      "execution_count": 77,
      "metadata": {
        "id": "_k9sQ_dsmS7G",
        "colab": {
          "base_uri": "https://localhost:8080/"
        },
        "outputId": "7017d05f-bad5-4c03-c436-ba453b82a6da"
      },
      "outputs": [
        {
          "output_type": "stream",
          "name": "stdout",
          "text": [
            "Epoch 1/10\n",
            "125/125 - 130s - loss: 0.3908 - acc: 0.9085 - val_loss: 1.6312 - val_acc: 0.6867 - 130s/epoch - 1s/step\n",
            "Epoch 2/10\n",
            "125/125 - 113s - loss: 0.1594 - acc: 0.9505 - val_loss: 1.9874 - val_acc: 0.6867 - 113s/epoch - 901ms/step\n",
            "Epoch 3/10\n",
            "125/125 - 115s - loss: 0.1218 - acc: 0.9630 - val_loss: 2.0336 - val_acc: 0.6800 - 115s/epoch - 921ms/step\n",
            "Epoch 4/10\n",
            "125/125 - 114s - loss: 0.1276 - acc: 0.9640 - val_loss: 2.4085 - val_acc: 0.7000 - 114s/epoch - 913ms/step\n",
            "Epoch 5/10\n",
            "125/125 - 114s - loss: 0.0841 - acc: 0.9710 - val_loss: 2.4371 - val_acc: 0.6867 - 114s/epoch - 910ms/step\n",
            "Epoch 6/10\n",
            "125/125 - 112s - loss: 0.0665 - acc: 0.9800 - val_loss: 2.3862 - val_acc: 0.6933 - 112s/epoch - 893ms/step\n",
            "Epoch 7/10\n",
            "125/125 - 112s - loss: 0.0591 - acc: 0.9785 - val_loss: 2.4896 - val_acc: 0.6733 - 112s/epoch - 900ms/step\n",
            "Epoch 8/10\n",
            "125/125 - 112s - loss: 0.0593 - acc: 0.9790 - val_loss: 2.6500 - val_acc: 0.6800 - 112s/epoch - 896ms/step\n",
            "Epoch 9/10\n",
            "125/125 - 114s - loss: 0.0480 - acc: 0.9845 - val_loss: 2.7314 - val_acc: 0.6867 - 114s/epoch - 910ms/step\n",
            "Epoch 10/10\n",
            "125/125 - 118s - loss: 0.0459 - acc: 0.9855 - val_loss: 2.7403 - val_acc: 0.6867 - 118s/epoch - 944ms/step\n"
          ]
        }
      ],
      "source": [
        "# Training the model using the fit function in Keras\n",
        "InceptionResNetV2_bo = model.fit(X_train_bo, Y_train_bo, epochs= 10, batch_size = 16, validation_data=(X_validation_bo, Y_validation_bo), verbose=2)"
      ]
    },
    {
      "cell_type": "code",
      "execution_count": 78,
      "metadata": {
        "id": "BCiqCtZbqBl0"
      },
      "outputs": [],
      "source": [
        "# Models performance metrices\n",
        "InceptionResNetV2_bo_loss = InceptionResNetV2_bo.history['loss']\n",
        "InceptionResNetV2_bo_val_loss = InceptionResNetV2_bo.history['val_loss']\n",
        "InceptionResNetV2_bo_acc = InceptionResNetV2_bo.history['acc']\n",
        "InceptionResNetV2_bo_val_acc = InceptionResNetV2_bo.history['val_acc']\n",
        "epochs = range(1, len(InceptionResNetV2_bo_loss) + 1)"
      ]
    },
    {
      "cell_type": "markdown",
      "metadata": {
        "id": "eYnhgf5yhD7A"
      },
      "source": [
        "*   Let's plot the training and validation accuracy of the model"
      ]
    },
    {
      "cell_type": "code",
      "execution_count": 79,
      "metadata": {
        "id": "EWdIJvLrbZR9",
        "colab": {
          "base_uri": "https://localhost:8080/",
          "height": 564
        },
        "outputId": "11795864-6cbe-4108-fe32-cfe1bb89fcf7"
      },
      "outputs": [
        {
          "output_type": "display_data",
          "data": {
            "text/plain": [
              "<Figure size 800x600 with 1 Axes>"
            ],
            "image/png": "[encoded data removed]"
          },
          "metadata": {}
        }
      ],
      "source": [
        "# Plot training and validation accuracy\n",
        "plt.figure(figsize=(8, 6))\n",
        "plt.plot(epochs, InceptionResNetV2_bo_acc, color='blue', linestyle='-', label='Training accuracy', linewidth=2)\n",
        "plt.plot(epochs, InceptionResNetV2_bo_val_acc, color='green', linestyle='--', label='Validation accuracy', linewidth=2)\n",
        "plt.title('Training and Validation Accuracy')\n",
        "plt.xlabel('Epochs')\n",
        "plt.ylabel('Accuracy')\n",
        "plt.legend()\n",
        "plt.grid(True)\n",
        "plt.show()"
      ]
    },
    {
      "cell_type": "markdown",
      "metadata": {
        "id": "1U2Yi2_Og0Kg"
      },
      "source": [
        "*   Let's plot the training and validation loss of the model"
      ]
    },
    {
      "cell_type": "code",
      "execution_count": 80,
      "metadata": {
        "id": "NjyxDB1RbSKl",
        "colab": {
          "base_uri": "https://localhost:8080/",
          "height": 564
        },
        "outputId": "f038c5dd-18e9-4ada-f0d8-98549b00bfe6"
      },
      "outputs": [
        {
          "output_type": "display_data",
          "data": {
            "text/plain": [
              "<Figure size 800x600 with 1 Axes>"
            ],
            "image/png": "[encoded data removed]"
          },
          "metadata": {}
        }
      ],
      "source": [
        "# Plot training and validation loss\n",
        "plt.figure(figsize=(8, 6))\n",
        "plt.plot(epochs, InceptionResNetV2_bo_loss, color='blue', linestyle='-', label='Training loss', linewidth=2)\n",
        "plt.plot(epochs, InceptionResNetV2_bo_val_loss, color='green', linestyle='--', label='Validation loss', linewidth=2)\n",
        "plt.title('Training and Validation Loss')\n",
        "plt.xlabel('Epochs')\n",
        "plt.ylabel('Loss')\n",
        "plt.legend()\n",
        "plt.grid(True)\n",
        "plt.show()"
      ]
    },
    {
      "cell_type": "markdown",
      "metadata": {
        "id": "FGOJ4_mniJk9"
      },
      "source": [
        "*   Classification report and prediction on the benign vs. others class.\n"
      ]
    },
    {
      "cell_type": "code",
      "execution_count": 81,
      "metadata": {
        "id": "0pkp90ZniXMh"
      },
      "outputs": [],
      "source": [
        "# Import the seaborn library for the confusion metrics heatmap\n",
        "import seaborn as sns\n",
        "# Import the sklearn library to evaluate the models through different metrices\n",
        "from sklearn.metrics import accuracy_score, confusion_matrix, classification_report, roc_auc_score, roc_curve, balanced_accuracy_score"
      ]
    },
    {
      "cell_type": "markdown",
      "metadata": {
        "id": "WTmjp2YemZ_x"
      },
      "source": [
        "*   Predictions on the trained model"
      ]
    },
    {
      "cell_type": "code",
      "execution_count": 82,
      "metadata": {
        "id": "q4zpii4qiopZ",
        "colab": {
          "base_uri": "https://localhost:8080/"
        },
        "outputId": "0e7f37a4-97b3-4f06-eab4-3ccc9b9976c7"
      },
      "outputs": [
        {
          "output_type": "stream",
          "name": "stdout",
          "text": [
            "19/19 [==============================] - 33s 2s/step\n"
          ]
        }
      ],
      "source": [
        "# Let's obtain the predictions on the trained model\n",
        "y_pred_bo = model.predict(X_test_bo)\n",
        "# Convert predicted probabilities to binary values\n",
        "y_pred_binary_bo = np.where(y_pred_bo >= 0.5, 1, 0)"
      ]
    },
    {
      "cell_type": "markdown",
      "metadata": {
        "id": "DIkRfbYOmjHF"
      },
      "source": [
        "*   Confusion Matrix Calculation"
      ]
    },
    {
      "cell_type": "code",
      "execution_count": 83,
      "metadata": {
        "id": "XTdsnQ9vqFtc",
        "colab": {
          "base_uri": "https://localhost:8080/",
          "height": 472
        },
        "outputId": "e8348bb9-69e7-4b15-8368-da2f08b45e18"
      },
      "outputs": [
        {
          "output_type": "display_data",
          "data": {
            "text/plain": [
              "<Figure size 640x480 with 2 Axes>"
            ],
            "image/png": "[encoded data removed]"
          },
          "metadata": {}
        }
      ],
      "source": [
        "# Calculate confusion matrix\n",
        "confusionmatrix_bo = confusion_matrix(Y_test_bo, y_pred_binary_bo)\n",
        "\n",
        "# List of class labels\n",
        "class_labels_bo = ['Others Cases', 'Benign Cases']\n",
        "\n",
        "# Plot the confusion matrix\n",
        "sns.heatmap(confusionmatrix_bo, annot = True, fmt = \"d\", cmap = \"Blues\", xticklabels = class_labels_bo, yticklabels = class_labels_bo)\n",
        "\n",
        "# Added the labels, title, and ticks\n",
        "plt.xlabel(\"Predicted\")\n",
        "plt.ylabel(\"True\")\n",
        "plt.title(\"Confusion Matrix\")\n",
        "plt.xticks(ticks=[0.5, 1.5], labels = class_labels_bo)\n",
        "plt.yticks(ticks=[0.5, 1.5], labels = class_labels_bo)\n",
        "\n",
        "# Display the plot\n",
        "plt.show()"
      ]
    },
    {
      "cell_type": "markdown",
      "metadata": {
        "id": "68hnRoz7olQ-"
      },
      "source": [
        "*   Here we have the obtained performance scores of the classification model"
      ]
    },
    {
      "cell_type": "code",
      "execution_count": 84,
      "metadata": {
        "id": "VD2VFFv_jgrA",
        "colab": {
          "base_uri": "https://localhost:8080/"
        },
        "outputId": "9e91303d-43d9-473f-97fe-cede775f1f2a"
      },
      "outputs": [
        {
          "output_type": "stream",
          "name": "stdout",
          "text": [
            "Test accuracy of benign vs. others class model: 0.7733333333333333\n",
            "Sensitivity of benign vs. others class model: 0.7862595419847328\n",
            "Specificity of benign vs. others clas model: 0.748792270531401\n",
            "Precision of benign vs. others class model: 0.8559556786703602\n",
            "Recall of benign vs. others class model: 0.7862595419847328\n",
            "F1 Score of benign vs. others class model: 0.8196286472148541\n",
            "AUC Score of benign vs. others class model: 0.8093754225516588\n"
          ]
        }
      ],
      "source": [
        "# Calculate test accuracy, sensitivity, specificity, precision, recall, F1 score, and AUC score\n",
        "tn_bo, fp_bo, fn_bo, tp_bo = confusionmatrix_bo.ravel()\n",
        "test_accuracy_bo = accuracy_score(Y_test_bo, y_pred_binary_bo)\n",
        "sensitivity_bo = tp_bo / (tp_bo + fn_bo)\n",
        "specificity_bo = tn_bo / (tn_bo + fp_bo)\n",
        "precision_bo = tp_bo / (tp_bo + fp_bo)\n",
        "recall_bo = sensitivity_bo\n",
        "f1_score_bo = 2 * (precision_bo * recall_bo) / (precision_bo + recall_bo)\n",
        "auc_score_bo = roc_auc_score(Y_test_bo, y_pred_bo)\n",
        "\n",
        "# Display the performance scores\n",
        "print(\"Test accuracy of benign vs. others class model:\", test_accuracy_bo)\n",
        "print(\"Sensitivity of benign vs. others class model:\", sensitivity_bo)\n",
        "print(\"Specificity of benign vs. others clas model:\", specificity_bo)\n",
        "print(\"Precision of benign vs. others class model:\", precision_bo)\n",
        "print(\"Recall of benign vs. others class model:\", recall_bo)\n",
        "print(\"F1 Score of benign vs. others class model:\", f1_score_bo)\n",
        "print(\"AUC Score of benign vs. others class model:\", auc_score_bo)"
      ]
    },
    {
      "cell_type": "markdown",
      "metadata": {
        "id": "fdfRHejOo4MD"
      },
      "source": [
        "*   Plotting and Calculating the ROC curve"
      ]
    },
    {
      "cell_type": "code",
      "execution_count": 85,
      "metadata": {
        "id": "bYjbAt7Ckm8Q",
        "colab": {
          "base_uri": "https://localhost:8080/",
          "height": 564
        },
        "outputId": "a75c46b9-bcc3-4819-fc4f-68a8aa23a87a"
      },
      "outputs": [
        {
          "output_type": "display_data",
          "data": {
            "text/plain": [
              "<Figure size 800x600 with 1 Axes>"
            ],
            "image/png": "[encoded data removed]"
          },
          "metadata": {}
        }
      ],
      "source": [
        "# Calculate ROC curve\n",
        "fpr_bo, tpr_bo, thresholds = roc_curve(Y_test_bo, y_pred_bo)\n",
        "\n",
        "# Plot ROC curve\n",
        "plt.figure(figsize=(8, 6))\n",
        "plt.plot(fpr_bo, tpr_bo, label='ROC Curve (AUC = {:.2f})'.format(auc_score_bo))\n",
        "plt.plot([0, 1], [0, 1], 'r--')\n",
        "plt.xlim([0, 1])\n",
        "plt.ylim([0, 1])\n",
        "plt.xlabel('False Positive Rate')\n",
        "plt.ylabel('True Positive Rate')\n",
        "plt.title('Receiver Operating Characteristic (ROC) Curve')\n",
        "plt.legend(loc='lower right')\n",
        "plt.grid(True)\n",
        "plt.show()"
      ]
    },
    {
      "cell_type": "markdown",
      "metadata": {
        "id": "8m89gFp51KGx"
      },
      "source": [
        "*4.2.* **Model Training for the  melanoma vs seborrheic keratosis**"
      ]
    },
    {
      "cell_type": "code",
      "execution_count": 86,
      "metadata": {
        "id": "V-kkFic71e7G",
        "colab": {
          "base_uri": "https://localhost:8080/"
        },
        "outputId": "574b6d19-5b74-4ab3-99bf-630f145b1f91"
      },
      "outputs": [
        {
          "output_type": "stream",
          "name": "stdout",
          "text": [
            "Epoch 1/10\n",
            "40/40 - 45s - loss: 0.5452 - acc: 0.9268 - val_loss: 3.2609 - val_acc: 0.6944 - 45s/epoch - 1s/step\n",
            "Epoch 2/10\n",
            "40/40 - 37s - loss: 0.0592 - acc: 0.9841 - val_loss: 2.5283 - val_acc: 0.7222 - 37s/epoch - 929ms/step\n",
            "Epoch 3/10\n",
            "40/40 - 38s - loss: 0.0238 - acc: 0.9920 - val_loss: 2.5581 - val_acc: 0.7222 - 38s/epoch - 943ms/step\n",
            "Epoch 4/10\n",
            "40/40 - 38s - loss: 0.0145 - acc: 0.9920 - val_loss: 2.5900 - val_acc: 0.7083 - 38s/epoch - 957ms/step\n",
            "Epoch 5/10\n",
            "40/40 - 38s - loss: 0.0107 - acc: 0.9968 - val_loss: 2.6093 - val_acc: 0.7083 - 38s/epoch - 957ms/step\n",
            "Epoch 6/10\n",
            "40/40 - 38s - loss: 0.0090 - acc: 0.9968 - val_loss: 2.6325 - val_acc: 0.7083 - 38s/epoch - 950ms/step\n",
            "Epoch 7/10\n",
            "40/40 - 40s - loss: 0.0077 - acc: 0.9968 - val_loss: 2.6485 - val_acc: 0.6944 - 40s/epoch - 1s/step\n",
            "Epoch 8/10\n",
            "40/40 - 38s - loss: 0.0069 - acc: 1.0000 - val_loss: 2.6714 - val_acc: 0.7083 - 38s/epoch - 941ms/step\n",
            "Epoch 9/10\n",
            "40/40 - 36s - loss: 0.0061 - acc: 1.0000 - val_loss: 2.6915 - val_acc: 0.7083 - 36s/epoch - 912ms/step\n",
            "Epoch 10/10\n",
            "40/40 - 35s - loss: 0.0056 - acc: 1.0000 - val_loss: 2.7034 - val_acc: 0.7083 - 35s/epoch - 881ms/step\n"
          ]
        }
      ],
      "source": [
        "# Training the model using the fit function in Keras\n",
        "InceptionResNetV2_ms = model.fit(X_train_ms, Y_train_ms, epochs= 10, batch_size = 16, validation_data=(X_validation_ms, Y_validation_ms), verbose=2)"
      ]
    },
    {
      "cell_type": "code",
      "execution_count": 87,
      "metadata": {
        "id": "YMKw--XC1w0y"
      },
      "outputs": [],
      "source": [
        "# Models performance metrices\n",
        "InceptionResNetV2_ms_loss = InceptionResNetV2_ms.history['loss']\n",
        "InceptionResNetV2_ms_val_loss = InceptionResNetV2_ms.history['val_loss']\n",
        "InceptionResNetV2_ms_acc = InceptionResNetV2_ms.history['acc']\n",
        "InceptionResNetV2_ms_val_acc = InceptionResNetV2_ms.history['val_acc']\n",
        "epochs = range(1, len(InceptionResNetV2_ms_loss) + 1)"
      ]
    },
    {
      "cell_type": "markdown",
      "metadata": {
        "id": "otFEqtOl15Cm"
      },
      "source": [
        "*   Let's plot the training and validation accuracy of the model"
      ]
    },
    {
      "cell_type": "code",
      "execution_count": 88,
      "metadata": {
        "id": "HIziNCrg2BCF",
        "colab": {
          "base_uri": "https://localhost:8080/",
          "height": 564
        },
        "outputId": "157bb20f-67ce-4d74-da33-d3261ef25152"
      },
      "outputs": [
        {
          "output_type": "display_data",
          "data": {
            "text/plain": [
              "<Figure size 800x600 with 1 Axes>"
            ],
            "image/png": "[encoded data removed]"
          },
          "metadata": {}
        }
      ],
      "source": [
        "# Plot training and validation accuracy\n",
        "plt.figure(figsize=(8, 6))\n",
        "plt.plot(epochs, InceptionResNetV2_ms_acc, color='blue', linestyle='-', label='Training accuracy', linewidth=2)\n",
        "plt.plot(epochs, InceptionResNetV2_ms_val_acc, color='green', linestyle='--', label='Validation accuracy', linewidth=2)\n",
        "plt.title('Training and Validation Accuracy')\n",
        "plt.xlabel('Epochs')\n",
        "plt.ylabel('Accuracy')\n",
        "plt.legend()\n",
        "plt.grid(True)\n",
        "plt.show()"
      ]
    },
    {
      "cell_type": "markdown",
      "metadata": {
        "id": "WwYE6CLJ2ZCR"
      },
      "source": [
        "*   Let's plot the training and validation loss of the model"
      ]
    },
    {
      "cell_type": "code",
      "execution_count": 89,
      "metadata": {
        "id": "Iz3D5q4t2aEE",
        "colab": {
          "base_uri": "https://localhost:8080/",
          "height": 564
        },
        "outputId": "eb5e9721-beeb-446f-d778-6662e00398f1"
      },
      "outputs": [
        {
          "output_type": "display_data",
          "data": {
            "text/plain": [
              "<Figure size 800x600 with 1 Axes>"
            ],
            "image/png": "[encoded data removed]"
          },
          "metadata": {}
        }
      ],
      "source": [
        "# Plot training and validation loss\n",
        "plt.figure(figsize=(8, 6))\n",
        "plt.plot(epochs, InceptionResNetV2_ms_loss, color='blue', linestyle='-', label='Training loss', linewidth=2)\n",
        "plt.plot(epochs, InceptionResNetV2_ms_val_loss, color='green', linestyle='--', label='Validation loss', linewidth=2)\n",
        "plt.title('Training and Validation Loss')\n",
        "plt.xlabel('Epochs')\n",
        "plt.ylabel('Loss')\n",
        "plt.legend()\n",
        "plt.grid(True)\n",
        "plt.show()"
      ]
    },
    {
      "cell_type": "markdown",
      "metadata": {
        "id": "NiAhlPV52vYY"
      },
      "source": [
        "*   Predictions on the trained model."
      ]
    },
    {
      "cell_type": "code",
      "execution_count": 90,
      "metadata": {
        "id": "-zRpHuAR2usa",
        "colab": {
          "base_uri": "https://localhost:8080/"
        },
        "outputId": "03c462b6-17d3-4dc2-baa6-a9348da52fa1"
      },
      "outputs": [
        {
          "output_type": "stream",
          "name": "stdout",
          "text": [
            "7/7 [==============================] - 11s 2s/step\n"
          ]
        }
      ],
      "source": [
        "# Let's obtain the predictions on the trained model\n",
        "y_pred_ms = model.predict(X_test_ms)\n",
        "# Convert predicted probabilities to binary values\n",
        "y_pred_binary_ms= np.where(y_pred_ms >= 0.5, 1, 0)"
      ]
    },
    {
      "cell_type": "markdown",
      "metadata": {
        "id": "GXUYEPIN3Q3g"
      },
      "source": [
        "*   Confusion Matrix Calculation"
      ]
    },
    {
      "cell_type": "code",
      "execution_count": 91,
      "metadata": {
        "id": "x_xxdbSF3Rtl",
        "colab": {
          "base_uri": "https://localhost:8080/",
          "height": 472
        },
        "outputId": "ad1821a0-d189-4361-d517-751c5274934f"
      },
      "outputs": [
        {
          "output_type": "display_data",
          "data": {
            "text/plain": [
              "<Figure size 640x480 with 2 Axes>"
            ],
            "image/png": "[encoded data removed]"
          },
          "metadata": {}
        }
      ],
      "source": [
        "# Calculate confusion matrix\n",
        "confusionmatrix_ms = confusion_matrix(Y_test_ms, y_pred_binary_ms)\n",
        "\n",
        "# List of class labels\n",
        "class_labels_ms = ['Seborrheic Cases', 'Melanoma Cases']\n",
        "\n",
        "# Plot the confusion matrix\n",
        "sns.heatmap(confusionmatrix_ms, annot = True, fmt = \"d\", cmap = \"Blues\", xticklabels = class_labels_ms, yticklabels = class_labels_ms)\n",
        "\n",
        "# Added the labels, title, and ticks\n",
        "plt.xlabel(\"Predicted\")\n",
        "plt.ylabel(\"True\")\n",
        "plt.title(\"Confusion Matrix\")\n",
        "plt.xticks(ticks=[0.5, 1.5], labels = class_labels_ms)\n",
        "plt.yticks(ticks=[0.5, 1.5], labels = class_labels_ms)\n",
        "\n",
        "# Display the plot\n",
        "plt.show()"
      ]
    },
    {
      "cell_type": "markdown",
      "metadata": {
        "id": "1eb99MFy329k"
      },
      "source": [
        "*   Here we have the obtained performance scores of the classification model"
      ]
    },
    {
      "cell_type": "code",
      "execution_count": 92,
      "metadata": {
        "id": "ELmB9ECc336G",
        "colab": {
          "base_uri": "https://localhost:8080/"
        },
        "outputId": "10463997-2742-4903-ae2a-fa2001dc569c"
      },
      "outputs": [
        {
          "output_type": "stream",
          "name": "stdout",
          "text": [
            "Test accuracy of melanoma vs seborrheic keratosis class model: 0.7439613526570048\n",
            "Sensitivity of melanoma vs seborrheic keratosis class model: 0.7521367521367521\n",
            "Specificity of melanoma vs seborrheic keratosis class model: 0.7333333333333333\n",
            "Precision of melanoma vs seborrheic keratosis class model: 0.7857142857142857\n",
            "Recall omelanoma vs seborrheic keratosis class model: 0.7521367521367521\n",
            "F1 Score of melanoma vs seborrheic keratosis class model: 0.7685589519650656\n",
            "AUC Score of melanoma vs seborrheic keratosis class model: 0.802326685660019\n"
          ]
        }
      ],
      "source": [
        "# Calculate test accuracy, sensitivity, specificity, precision, recall, F1 score, and AUC score\n",
        "tn_ms, fp_ms, fn_ms, tp_ms = confusionmatrix_ms.ravel()\n",
        "test_accuracy_ms = accuracy_score(Y_test_ms, y_pred_binary_ms)\n",
        "sensitivity_ms = tp_ms / (tp_ms + fn_ms)\n",
        "specificity_ms = tn_ms / (tn_ms + fp_ms)\n",
        "precision_ms = tp_ms / (tp_ms + fp_ms)\n",
        "recall_ms = sensitivity_ms\n",
        "f1_score_ms = 2 * (precision_ms * recall_ms) / (precision_ms + recall_ms)\n",
        "auc_score_ms = roc_auc_score(Y_test_ms, y_pred_ms)\n",
        "\n",
        "# Display the performance scores\n",
        "print(\"Test accuracy of melanoma vs seborrheic keratosis class model:\", test_accuracy_ms)\n",
        "print(\"Sensitivity of melanoma vs seborrheic keratosis class model:\", sensitivity_ms)\n",
        "print(\"Specificity of melanoma vs seborrheic keratosis class model:\", specificity_ms)\n",
        "print(\"Precision of melanoma vs seborrheic keratosis class model:\", precision_ms)\n",
        "print(\"Recall omelanoma vs seborrheic keratosis class model:\", recall_ms)\n",
        "print(\"F1 Score of melanoma vs seborrheic keratosis class model:\", f1_score_ms)\n",
        "print(\"AUC Score of melanoma vs seborrheic keratosis class model:\", auc_score_ms)"
      ]
    },
    {
      "cell_type": "markdown",
      "metadata": {
        "id": "6z4qG-gD4xgi"
      },
      "source": [
        "*   Plotting and Calculating the ROC curve"
      ]
    },
    {
      "cell_type": "code",
      "execution_count": 93,
      "metadata": {
        "id": "ZW-bMWnA4yDC",
        "colab": {
          "base_uri": "https://localhost:8080/",
          "height": 564
        },
        "outputId": "a96b7134-8067-442b-cb2f-473bf4fea03d"
      },
      "outputs": [
        {
          "output_type": "display_data",
          "data": {
            "text/plain": [
              "<Figure size 800x600 with 1 Axes>"
            ],
            "image/png": "[encoded data removed]"
          },
          "metadata": {}
        }
      ],
      "source": [
        "# Calculate ROC curve\n",
        "fpr_ms, tpr_ms, thresholds = roc_curve(Y_test_ms, y_pred_ms)\n",
        "\n",
        "# Plot ROC curve\n",
        "plt.figure(figsize=(8, 6))\n",
        "plt.plot(fpr_ms, tpr_ms, label='ROC Curve (AUC = {:.2f})'.format(auc_score_ms))\n",
        "plt.plot([0, 1], [0, 1], 'r--')\n",
        "plt.xlim([0, 1])\n",
        "plt.ylim([0, 1])\n",
        "plt.xlabel('False Positive Rate')\n",
        "plt.ylabel('True Positive Rate')\n",
        "plt.title('Receiver Operating Characteristic (ROC) Curve')\n",
        "plt.legend(loc='lower right')\n",
        "plt.grid(True)\n",
        "plt.show()"
      ]
    },
    {
      "cell_type": "markdown",
      "metadata": {
        "id": "Q1kywPsHKnLz"
      },
      "source": [
        "*4.3.* **Balance Malticlass Accuracy (BMA)**\n",
        "\n",
        "*   Now, we are going to calculate the Balance Malticlass Accuracy (BMA) among \n",
        "three classes such as benign, melanoma, seborrheic keratosis. "
      ]
    },
    {
      "cell_type": "code",
      "execution_count": 94,
      "metadata": {
        "id": "IwRYrVi7G6wf",
        "colab": {
          "base_uri": "https://localhost:8080/"
        },
        "outputId": "edaea17b-ef33-4ea0-ca75-9421fee3f9a1"
      },
      "outputs": [
        {
          "output_type": "stream",
          "name": "stdout",
          "text": [
            "Balance Maulticlass Accuracy (BMA): 0.7572432091516061\n"
          ]
        }
      ],
      "source": [
        "# Compute the Balance Malticlass Accuracy (BMA) among three classes \n",
        "bme = (1.0/3.0) * ((tp_bo/(tp_bo + fn_bo)) + (tp_ms/(tp_ms + fn_ms)) +  (tn_ms/(tn_ms + fp_ms)) )\n",
        "print(f'Balance Maulticlass Accuracy (BMA):', bme)"
      ]
    },
    {
      "cell_type": "markdown",
      "metadata": {
        "id": "Pzf-O-_L5E0_"
      },
      "source": [
        "End........................................."
      ]
    }
  ],
  "metadata": {
    "colab": {
      "provenance": []
    },
    "kernelspec": {
      "display_name": "Python 3",
      "name": "python3"
    },
    "language_info": {
      "name": "python"
    }
  },
  "nbformat": 4,
  "nbformat_minor": 0
}